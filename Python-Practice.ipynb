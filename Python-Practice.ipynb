{
 "cells": [
  {
   "cell_type": "markdown",
   "metadata": {},
   "source": [
    "# Python Practice"
   ]
  },
  {
   "cell_type": "markdown",
   "metadata": {},
   "source": [
    " - Various Python exercises and projects."
   ]
  },
  {
   "cell_type": "markdown",
   "metadata": {},
   "source": [
    "## Variables"
   ]
  },
  {
   "cell_type": "code",
   "execution_count": 1,
   "metadata": {},
   "outputs": [
    {
     "name": "stdout",
     "output_type": "stream",
     "text": [
      "What is your name?\n",
      "Justin\n",
      "Hello Justin\n"
     ]
    }
   ],
   "source": [
    "# Greeting\n",
    "print('Hello ' + input('What is your name?\\n'))"
   ]
  },
  {
   "cell_type": "code",
   "execution_count": 2,
   "metadata": {},
   "outputs": [
    {
     "name": "stdout",
     "output_type": "stream",
     "text": [
      "Welcome to the band name generator.\n",
      "Which city did you grow up in?\n",
      "North Haledon\n",
      "What is the name of a pet?\n",
      "Spike\n",
      "Your band name could be North Haledon Spike\n"
     ]
    }
   ],
   "source": [
    "# Band Name Generator\n",
    "print('Welcome to the band name generator.')\n",
    "city = input('Which city did you grow up in?\\n')\n",
    "pet = input('What is the name of a pet?\\n')\n",
    "print('Your band name could be ' + city + \" \" + pet)"
   ]
  },
  {
   "cell_type": "markdown",
   "metadata": {},
   "source": [
    "## String Manipulation"
   ]
  },
  {
   "cell_type": "code",
   "execution_count": 3,
   "metadata": {},
   "outputs": [
    {
     "name": "stdout",
     "output_type": "stream",
     "text": [
      "Welcome to the tip calculator.\n",
      "What was the total bill?\n",
      "100\n",
      "What percentage tip would you like to give? 10, 12, or 15?\n",
      "15\n",
      "How many people to split the bill?\n",
      "2\n",
      "Each person should pay:$57.5\n"
     ]
    }
   ],
   "source": [
    "# Tip Calculator\n",
    "print('Welcome to the tip calculator.')\n",
    "total = input('What was the total bill?\\n')\n",
    "percentage = input('What percentage tip would you like to give? 10, 12, or 15?\\n')\n",
    "split = input('How many people to split the bill?\\n')\n",
    "tip = int(total) * (int(percentage) / 100) + int(total)\n",
    "pay = tip/int(split)\n",
    "print(f'Each person should pay:${round(pay,2)}')"
   ]
  },
  {
   "cell_type": "markdown",
   "metadata": {},
   "source": [
    "## Control Flow & Logical Operators"
   ]
  },
  {
   "cell_type": "code",
   "execution_count": 4,
   "metadata": {},
   "outputs": [
    {
     "name": "stdout",
     "output_type": "stream",
     "text": [
      "Which number do you want to check? 11\n",
      "This is an odd number\n"
     ]
    }
   ],
   "source": [
    "# Odd or Even\n",
    "number = int(input(\"Which number do you want to check? \"))\n",
    "if number % 2 == 0:\n",
    "    print('This is an even number.')\n",
    "else:\n",
    "    print('This is an odd number')"
   ]
  },
  {
   "cell_type": "code",
   "execution_count": 5,
   "metadata": {},
   "outputs": [
    {
     "name": "stdout",
     "output_type": "stream",
     "text": [
      "enter your height in m: 1.74\n",
      "enter your weight in kg: 68\n",
      "Your BMI is 22, you have a normal weight.\n"
     ]
    }
   ],
   "source": [
    "# BMI Calculator\n",
    "height = float(input(\"enter your height in m: \"))\n",
    "weight = float(input(\"enter your weight in kg: \"))\n",
    "bmi = round(weight/height**2)\n",
    "if bmi < 18.5:\n",
    "    print(f'Your BMI is {bmi}, you are underweight.')\n",
    "elif bmi > 18.5:\n",
    "    print(f'Your BMI is {bmi}, you have a normal weight.')\n",
    "elif bmi > 25:\n",
    "    print(f'Your BMI is {bmi}, you are slightly overweight.')\n",
    "elif bmi > 30:\n",
    "    print(f'Your BMI is {bmi}, you are obese.')\n",
    "else:\n",
    "    print(f'Your BMI is {bmi}, your are clinically obese.')"
   ]
  },
  {
   "cell_type": "code",
   "execution_count": 6,
   "metadata": {},
   "outputs": [
    {
     "name": "stdout",
     "output_type": "stream",
     "text": [
      "Which year do you want to check? 2022\n",
      "Not leap year.\n"
     ]
    }
   ],
   "source": [
    "# Leap Year checker\n",
    "year = int(input(\"Which year do you want to check? \"))\n",
    "if year % 4 == 0:\n",
    "    if year % 100 == 0:\n",
    "        if year % 400 == 0:\n",
    "            print('Leap year.')\n",
    "        else:\n",
    "            print('Not leap year.')\n",
    "    else: print('Leap year.')\n",
    "else:\n",
    "    print('Not leap year.')"
   ]
  },
  {
   "cell_type": "code",
   "execution_count": 7,
   "metadata": {},
   "outputs": [
    {
     "name": "stdout",
     "output_type": "stream",
     "text": [
      "Welcome to Python Pizza Deliveries!\n",
      "What size pizza do you want? S, M, or L M\n",
      "Do you want pepperoni? Y or N Y\n",
      "Do you want extra cheese? Y or N N\n",
      "Your final bill is: $23\n"
     ]
    }
   ],
   "source": [
    "# Pizza Order Calculator\n",
    "\n",
    "# Small Pizza: $15\n",
    "# Medium Pizza: $20\n",
    "# Large Pizza: $25\n",
    "# Pepperoni for Small Pizza: +$2\n",
    "# Pepperoni for Medium or Large Pizza: +$3\n",
    "# Extra cheese for any size pizza: + $1\n",
    "\n",
    "print(\"Welcome to Python Pizza Deliveries!\")\n",
    "size = input(\"What size pizza do you want? S, M, or L \")\n",
    "add_pepperoni = input(\"Do you want pepperoni? Y or N \")\n",
    "extra_cheese = input(\"Do you want extra cheese? Y or N \")\n",
    "\n",
    "if size == 'S':\n",
    "    bill = 15\n",
    "    if add_pepperoni == 'Y':\n",
    "        bill += 2\n",
    "elif size == 'M':\n",
    "    bill = 20\n",
    "    if add_pepperoni == 'Y':\n",
    "        bill += 3\n",
    "else:\n",
    "    bill = 25\n",
    "    if add_pepperoni == 'Y':\n",
    "        bill +=3\n",
    "if extra_cheese == 'Y':\n",
    "    bill += 1\n",
    "print(f'Your final bill is: ${bill}')"
   ]
  },
  {
   "cell_type": "code",
   "execution_count": 8,
   "metadata": {},
   "outputs": [
    {
     "name": "stdout",
     "output_type": "stream",
     "text": [
      "Welcome to the Love Calculator!\n",
      "What is your name? \n",
      "Justin\n",
      "What is their name? \n",
      "Emma\n",
      "Your score is 31\n"
     ]
    }
   ],
   "source": [
    "# Love Calculator\n",
    "print(\"Welcome to the Love Calculator!\")\n",
    "\n",
    "name1 = input(\"What is your name? \\n\")\n",
    "name2 = input(\"What is their name? \\n\")\n",
    "\n",
    "names = name1 + name2.lower()\n",
    "\n",
    "t = names.count('t')\n",
    "r = names.count('r')\n",
    "u = names.count('u')\n",
    "e = names.count('e')\n",
    "\n",
    "true = t + r + u + e\n",
    "\n",
    "l = names.count('l')\n",
    "o = names.count('o')\n",
    "v = names.count('v')\n",
    "e = names.count('e')\n",
    "\n",
    "love = l + o + v + e\n",
    "\n",
    "string_score = str(true) + str(love)\n",
    "score = int(string_score)\n",
    "if score < 10 or score > 90:\n",
    "    print(f'Your score is {score}, you go together like coke and mentos.')\n",
    "elif score >= 40 and score <= 50:\n",
    "    print(f'Your score is {score}, you are alright together.')\n",
    "else:\n",
    "    print(f'Your score is {score}') "
   ]
  },
  {
   "cell_type": "markdown",
   "metadata": {},
   "source": [
    "## Randomisation & Lists"
   ]
  },
  {
   "cell_type": "code",
   "execution_count": 9,
   "metadata": {},
   "outputs": [
    {
     "name": "stdout",
     "output_type": "stream",
     "text": [
      "Tails\n"
     ]
    }
   ],
   "source": [
    "# Heads or tails\n",
    "import random\n",
    "random_side = random.randint(0,1)\n",
    "if random_side == 1:\n",
    "    print('Heads')\n",
    "else:\n",
    "    print('Tails')"
   ]
  },
  {
   "cell_type": "code",
   "execution_count": 10,
   "metadata": {},
   "outputs": [
    {
     "name": "stdout",
     "output_type": "stream",
     "text": [
      "Create a seed number: 99\n",
      "Give me everybody's names, separated by a comma. Justin, Carl, Conor\n",
      "Carl is going to buy the meal today!\n"
     ]
    }
   ],
   "source": [
    "# Banker Roulette\n",
    "test_seed = int(input(\"Create a seed number: \"))\n",
    "random.seed(test_seed)\n",
    "names_string = input(\"Give me everybody's names, separated by a comma. \")\n",
    "names = names_string.split(\", \")\n",
    "num = random.randint(0, len(names) - 1)\n",
    "buyer = names[num]\n",
    "print(buyer + ' is going to buy the meal today!')"
   ]
  },
  {
   "cell_type": "code",
   "execution_count": 11,
   "metadata": {},
   "outputs": [
    {
     "name": "stdout",
     "output_type": "stream",
     "text": [
      "Kale\n"
     ]
    }
   ],
   "source": [
    "# Nested List\n",
    "fruits = [\"Strawberries\", \"Nectarines\", \"Apples\", \"Grapes\", \"Peaches\", \"Cherries\", \"Pears\"]\n",
    "vegetables = [\"Spinach\", \"Kale\", \"Tomatoes\", \"Celery\", \"Potatoes\"]\n",
    " \n",
    "dirty_dozen = [fruits, vegetables]\n",
    " \n",
    "print(dirty_dozen[1][1])"
   ]
  },
  {
   "cell_type": "code",
   "execution_count": 12,
   "metadata": {},
   "outputs": [
    {
     "name": "stdout",
     "output_type": "stream",
     "text": [
      "['⬜️', '⬜️', '⬜️']\n",
      "['⬜️', '⬜️', '⬜️']\n",
      "['⬜️', '⬜️', '⬜️']\n",
      "Where do you want to put the treasure? 31\n",
      "['⬜️', '⬜️', 'X']\n",
      "['⬜️', '⬜️', '⬜️']\n",
      "['⬜️', '⬜️', '⬜️']\n"
     ]
    }
   ],
   "source": [
    "# Treasure Map\n",
    "row1 = [\"⬜️\",\"⬜️\",\"⬜️\"]\n",
    "row2 = [\"⬜️\",\"⬜️\",\"⬜️\"]\n",
    "row3 = [\"⬜️\",\"⬜️\",\"⬜️\"]\n",
    "map = [row1, row2, row3]\n",
    "print(f\"{row1}\\n{row2}\\n{row3}\")\n",
    "position = input(\"Where do you want to put the treasure? \")\n",
    "\n",
    "horizontal = int(position[0])\n",
    "vertical = int(position[1])\n",
    "\n",
    "selected_row = map[vertical - 1]\n",
    "selected_row[horizontal -1] = 'X'\n",
    "\n",
    "print(f\"{row1}\\n{row2}\\n{row3}\")"
   ]
  },
  {
   "cell_type": "code",
   "execution_count": 22,
   "metadata": {},
   "outputs": [
    {
     "name": "stdout",
     "output_type": "stream",
     "text": [
      "What do you choose? Type 0 for Rock, 1 for paper, or 2 for Scissors.\n",
      "1\n",
      "\n",
      "    _______\n",
      "---'   ____)____\n",
      "          ______)\n",
      "          _______)\n",
      "         _______)\n",
      "---.__________)\n",
      "\n",
      "Computer chose:\n",
      "\n",
      "    _______\n",
      "---'   ____)\n",
      "      (_____)\n",
      "      (_____)\n",
      "      (____)\n",
      "---.__(___)\n",
      "\n",
      "You win!\n"
     ]
    }
   ],
   "source": [
    "# Rock, Paper, Scissors \n",
    "rock = '''\n",
    "    _______\n",
    "---'   ____)\n",
    "      (_____)\n",
    "      (_____)\n",
    "      (____)\n",
    "---.__(___)\n",
    "'''\n",
    "\n",
    "paper = '''\n",
    "    _______\n",
    "---'   ____)____\n",
    "          ______)\n",
    "          _______)\n",
    "         _______)\n",
    "---.__________)\n",
    "'''\n",
    "\n",
    "scissors = '''\n",
    "    _______\n",
    "---'   ____)____\n",
    "          ______)\n",
    "       __________)\n",
    "      (____)\n",
    "---.__(___)\n",
    "'''\n",
    "\n",
    "game_images = [rock, paper, scissors]\n",
    "user_choice = int(input('What do you choose? Type 0 for Rock, 1 for paper, or 2 for Scissors.\\n'))\n",
    "if user_choice >= 3 or user_choice < 0:\n",
    "    print('You typed an invalid number, you lose.')\n",
    "else:\n",
    "    print(game_images[user_choice])\n",
    "    computer_choice = random.randint(0,2)\n",
    "    print('Computer chose:')\n",
    "    print(game_images[computer_choice])\n",
    "\n",
    "    if user_choice == 0 and computer_choice == 2:\n",
    "        print('You win!')\n",
    "    elif computer_choice == 0 and user_choice == 2:\n",
    "        print('You lose')\n",
    "    elif computer_choice > user_choice:\n",
    "        print('You lose')\n",
    "    elif user_choice > computer_choice:\n",
    "        print('You win!')\n",
    "    elif computer_choice == user_choice:\n",
    "        print('It\\'s a draw')"
   ]
  },
  {
   "cell_type": "code",
   "execution_count": null,
   "metadata": {},
   "outputs": [],
   "source": []
  }
 ],
 "metadata": {
  "kernelspec": {
   "display_name": "Python 3",
   "language": "python",
   "name": "python3"
  },
  "language_info": {
   "codemirror_mode": {
    "name": "ipython",
    "version": 3
   },
   "file_extension": ".py",
   "mimetype": "text/x-python",
   "name": "python",
   "nbconvert_exporter": "python",
   "pygments_lexer": "ipython3",
   "version": "3.8.5"
  }
 },
 "nbformat": 4,
 "nbformat_minor": 4
}
