{
 "cells": [
  {
   "cell_type": "markdown",
   "metadata": {},
   "source": [
    "# Python Practice"
   ]
  },
  {
   "cell_type": "markdown",
   "metadata": {},
   "source": [
    "## Variables"
   ]
  },
  {
   "cell_type": "code",
   "execution_count": 1,
   "metadata": {},
   "outputs": [
    {
     "name": "stdout",
     "output_type": "stream",
     "text": [
      "What is your name?\n",
      "Justin\n",
      "Hello Justin\n"
     ]
    }
   ],
   "source": [
    "# Greeting\n",
    "print('Hello ' + input('What is your name?\\n'))"
   ]
  },
  {
   "cell_type": "code",
   "execution_count": 2,
   "metadata": {},
   "outputs": [
    {
     "name": "stdout",
     "output_type": "stream",
     "text": [
      "Welcome to the band name generator.\n",
      "Which city did you grow up in?\n",
      "North Haledon\n",
      "What is the name of a pet?\n",
      "Spike\n",
      "Your band name could be North Haledon Spike\n"
     ]
    }
   ],
   "source": [
    "# Band Name Generator\n",
    "print('Welcome to the band name generator.')\n",
    "city = input('Which city did you grow up in?\\n')\n",
    "pet = input('What is the name of a pet?\\n')\n",
    "print('Your band name could be ' + city + \" \" + pet)"
   ]
  },
  {
   "cell_type": "code",
   "execution_count": 14,
   "metadata": {},
   "outputs": [
    {
     "name": "stdout",
     "output_type": "stream",
     "text": [
      "Welcome to the tip calculator.\n",
      "What was the total bill?\n",
      "83\n",
      "What percentage tip would you like to give? 10, 12, or 15?\n",
      "12\n",
      "How many people to split the bill?\n",
      "2\n",
      "Each person should pay:$46.48\n"
     ]
    }
   ],
   "source": [
    "# Tip Calculator\n",
    "print('Welcome to the tip calculator.')\n",
    "total = input('What was the total bill?\\n')\n",
    "percentage = input('What percentage tip would you like to give? 10, 12, or 15?\\n')\n",
    "split = input('How many people to split the bill?\\n')\n",
    "tip = int(total) * (int(percentage) / 100) + int(total)\n",
    "pay = tip/int(split)\n",
    "print(f'Each person should pay:${round(pay,2)}')"
   ]
  },
  {
   "cell_type": "code",
   "execution_count": null,
   "metadata": {},
   "outputs": [],
   "source": []
  }
 ],
 "metadata": {
  "kernelspec": {
   "display_name": "Python 3",
   "language": "python",
   "name": "python3"
  },
  "language_info": {
   "codemirror_mode": {
    "name": "ipython",
    "version": 3
   },
   "file_extension": ".py",
   "mimetype": "text/x-python",
   "name": "python",
   "nbconvert_exporter": "python",
   "pygments_lexer": "ipython3",
   "version": "3.8.5"
  }
 },
 "nbformat": 4,
 "nbformat_minor": 4
}
