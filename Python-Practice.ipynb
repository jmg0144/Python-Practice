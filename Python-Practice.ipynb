{
 "cells": [
  {
   "cell_type": "markdown",
   "metadata": {},
   "source": [
    "# Python Practice"
   ]
  },
  {
   "cell_type": "markdown",
   "metadata": {},
   "source": [
    "## Variables"
   ]
  },
  {
   "cell_type": "code",
   "execution_count": 1,
   "metadata": {},
   "outputs": [
    {
     "name": "stdout",
     "output_type": "stream",
     "text": [
      "What is your name?\n",
      "Justin\n",
      "Hello Justin\n"
     ]
    }
   ],
   "source": [
    "# Greeting\n",
    "print('Hello ' + input('What is your name?\\n'))"
   ]
  },
  {
   "cell_type": "code",
   "execution_count": 2,
   "metadata": {},
   "outputs": [
    {
     "name": "stdout",
     "output_type": "stream",
     "text": [
      "Welcome to the band name generator.\n",
      "Which city did you grow up in?\n",
      "North Haledon\n",
      "What is the name of a pet?\n",
      "Spike\n",
      "Your band name could be North Haledon Spike\n"
     ]
    }
   ],
   "source": [
    "# Band Name Generator\n",
    "print('Welcome to the band name generator.')\n",
    "city = input('Which city did you grow up in?\\n')\n",
    "pet = input('What is the name of a pet?\\n')\n",
    "print('Your band name could be ' + city + \" \" + pet)"
   ]
  },
  {
   "cell_type": "code",
   "execution_count": 3,
   "metadata": {},
   "outputs": [
    {
     "name": "stdout",
     "output_type": "stream",
     "text": [
      "Welcome to the tip calculator.\n",
      "What was the total bill?\n",
      "100\n",
      "What percentage tip would you like to give? 10, 12, or 15?\n",
      "15\n",
      "How many people to split the bill?\n",
      "2\n",
      "Each person should pay:$57.5\n"
     ]
    }
   ],
   "source": [
    "# Tip Calculator\n",
    "print('Welcome to the tip calculator.')\n",
    "total = input('What was the total bill?\\n')\n",
    "percentage = input('What percentage tip would you like to give? 10, 12, or 15?\\n')\n",
    "split = input('How many people to split the bill?\\n')\n",
    "tip = int(total) * (int(percentage) / 100) + int(total)\n",
    "pay = tip/int(split)\n",
    "print(f'Each person should pay:${round(pay,2)}')"
   ]
  },
  {
   "cell_type": "code",
   "execution_count": 7,
   "metadata": {},
   "outputs": [
    {
     "name": "stdout",
     "output_type": "stream",
     "text": [
      "Which number do you want to check? 100\n",
      "This is an even number.\n"
     ]
    }
   ],
   "source": [
    "# Odd or Even\n",
    "number = int(input(\"Which number do you want to check? \"))\n",
    "if number % 2 == 0:\n",
    "    print('This is an even number.')\n",
    "else:\n",
    "    print('This is an odd number')"
   ]
  },
  {
   "cell_type": "code",
   "execution_count": 9,
   "metadata": {},
   "outputs": [
    {
     "name": "stdout",
     "output_type": "stream",
     "text": [
      "enter your height in m: 1.73\n",
      "enter your weight in kg: 68\n",
      "Your BMI is 23, you have a normal weight.\n"
     ]
    }
   ],
   "source": [
    "# BMI Calculator\n",
    "height = float(input(\"enter your height in m: \"))\n",
    "weight = float(input(\"enter your weight in kg: \"))\n",
    "bmi = round(weight/height**2)\n",
    "if bmi < 18.5:\n",
    "    print(f'Your BMI is {bmi}, you are underweight.')\n",
    "elif bmi > 18.5:\n",
    "    print(f'Your BMI is {bmi}, you have a normal weight.')\n",
    "elif bmi > 25:\n",
    "    print(f'Your BMI is {bmi}, you are slightly overweight.')\n",
    "elif bmi > 30:\n",
    "    print(f'Your BMI is {bmi}, you are obese.')\n",
    "else:\n",
    "    print(f'Your BMI is {bmi}, your are clinically obese.')"
   ]
  },
  {
   "cell_type": "code",
   "execution_count": 20,
   "metadata": {},
   "outputs": [
    {
     "name": "stdout",
     "output_type": "stream",
     "text": [
      "Which year do you want to check? 2022\n",
      "Not leap year.\n"
     ]
    }
   ],
   "source": [
    "# Leap Year \n",
    "year = int(input(\"Which year do you want to check? \"))\n",
    "if year % 4 == 0:\n",
    "    if year % 100 == 0:\n",
    "        if year % 400 == 0:\n",
    "            print('Leap year.')\n",
    "        else:\n",
    "            print('Not leap year.')\n",
    "    else: print('Leap year.')\n",
    "else:\n",
    "    print('Not leap year.')"
   ]
  },
  {
   "cell_type": "code",
   "execution_count": null,
   "metadata": {},
   "outputs": [],
   "source": []
  }
 ],
 "metadata": {
  "kernelspec": {
   "display_name": "Python 3",
   "language": "python",
   "name": "python3"
  },
  "language_info": {
   "codemirror_mode": {
    "name": "ipython",
    "version": 3
   },
   "file_extension": ".py",
   "mimetype": "text/x-python",
   "name": "python",
   "nbconvert_exporter": "python",
   "pygments_lexer": "ipython3",
   "version": "3.8.5"
  }
 },
 "nbformat": 4,
 "nbformat_minor": 4
}
